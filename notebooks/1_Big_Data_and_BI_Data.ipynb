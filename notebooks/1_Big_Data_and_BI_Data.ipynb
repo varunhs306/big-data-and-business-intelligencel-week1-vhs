{
 "cells": [
  {
   "cell_type": "markdown",
   "id": "016c77c2",
   "metadata": {},
   "source": [
    "# Big Data & BI – Intro Notebook\n",
    "\n",
    "**Topic:** Data, Data Types, Databases, Warehouses & Lakes"
   ]
  },
  {
   "cell_type": "markdown",
   "id": "bfecc6c9",
   "metadata": {},
   "source": [
    "\n",
    "## Learning Objectives\n",
    "By the end, you can:\n",
    "- Explain **structured/semi-structured/unstructured** data (with examples).\n",
    "- Contrast a **Data Warehouse** with a **Data Lake**.\n",
    "- Run simple **SQL** on a toy database.\n",
    "- Git commit check"
   ]
  },
  {
   "cell_type": "code",
   "execution_count": null,
   "id": "0a61e1ca",
   "metadata": {},
   "outputs": [],
   "source": [
    "import pandas as pd\n",
    "import numpy as np\n",
    "import json, sqlite3, os, io, textwrap\n",
    "from pprint import pprint\n",
    "# comment"
   ]
  },
  {
   "cell_type": "code",
   "execution_count": null,
   "id": "5e09389e",
   "metadata": {},
   "outputs": [],
   "source": [
    "# Pandas display options\n",
    "pd.set_option(\"display.max_rows\", 8)\n",
    "pd.set_option(\"display.max_colwidth\", 80)\n"
   ]
  },
  {
   "cell_type": "markdown",
   "id": "f209fc78",
   "metadata": {},
   "source": [
    "\n",
    "## 1) What is Data? The 3 Vs\n",
    "**Data** = recorded observations/measurements. In Big Data, remember the **3 Vs**:\n",
    "- **Volume** (how much)\n",
    "- **Velocity** (how fast)\n",
    "- **Variety** (how many kinds)\n",
    "\n",
    "Let's create a toy multi-format dataset (orders, sensor stream, comments).\n"
   ]
  },
  {
   "cell_type": "code",
   "execution_count": null,
   "id": "d90e88ec",
   "metadata": {},
   "outputs": [],
   "source": [
    "# Create three tiny datasets: structured, semi-structured, unstructured\n",
    "\n",
    "# Structured data: Orders DataFrame\n",
    "orders = pd.DataFrame({\n",
    "    \"order_id\":[101,102,103,104,105],\n",
    "    \"customer\":[\"Ava\",\"Ben\",\"Ava\",\"Luca\",\"Mina\"],\n",
    "    \"item\":[\"Pizza\",\"Salad\",\"Pasta\",\"Pasta\",\"Pizza\"],\n",
    "    \"price\":[12.5,8.0,10.0,10.0,12.5],\n",
    "    \"ts\": pd.date_range(\"2025-01-01\", periods=5, freq=\"h\")\n",
    "})\n",
    "orders\n"
   ]
  },
  {
   "cell_type": "code",
   "execution_count": null,
   "id": "9b5b2da0",
   "metadata": {},
   "outputs": [],
   "source": [
    "# Semi-structured: JSON logs (nested-shallow because of meta field)\n",
    "logs = [\n",
    "    {\"event\":\"click\",\"user\":\"Ava\",\"path\":\"/home\",\"meta\":{\"device\":\"mobile\",\"utm\":\"spring\"}},\n",
    "    {\"event\":\"view\",\"user\":\"Mina\",\"path\":\"/menu\",\"meta\":{\"device\":\"desktop\"}},\n",
    "    {\"event\":\"purchase\",\"user\":\"Ava\",\"path\":\"/checkout\",\"meta\":{\"device\":\"mobile\",\"coupon\":\"WELCOME10\"}}\n",
    "]\n",
    "pprint(logs)\n"
   ]
  },
  {
   "cell_type": "code",
   "execution_count": null,
   "id": "d1f54664",
   "metadata": {},
   "outputs": [],
   "source": [
    "# Unstructured: free text comments\n",
    "comments = [\n",
    "    \"Pizza was 🔥 and delivery was fast!\",\n",
    "    \"Salad okay, dressing too sweet.\",\n",
    "    \"Pasta great. Would reorder. Thanks :)\"\n",
    "]\n",
    "for i, c in enumerate(comments, 1):\n",
    "    print(f\"{i}. {c}\")\n"
   ]
  },
  {
   "cell_type": "markdown",
   "id": "e2277938",
   "metadata": {},
   "source": [
    "\n",
    "**Excersice:** In your own words, map each object above to **Volume/Velocity/Variety**.  \n",
    "*(No code needed—just discuss.)*\n"
   ]
  },
  {
   "cell_type": "markdown",
   "id": "d8bd80fb",
   "metadata": {},
   "source": [
    "\n",
    "## 2) Data Types in Action\n",
    "We'll parse the semi-structured JSON logs, and do a simple NLP analysis on unstructured text.\n"
   ]
  },
  {
   "cell_type": "code",
   "execution_count": null,
   "id": "14b43cc0",
   "metadata": {},
   "outputs": [],
   "source": [
    "# Parse the JSON logs into a DataFrame (semi-structured -> structured view)\n",
    "logs_df = pd.json_normalize(logs, sep=\"_\")\n",
    "logs_df\n"
   ]
  },
  {
   "cell_type": "code",
   "execution_count": null,
   "id": "2cee8386",
   "metadata": {},
   "outputs": [],
   "source": [
    "# Quick text processing (unstructured): word counts ignoring tiny words\n",
    "import re\n",
    "def word_counts(lines):\n",
    "    words = re.findall(r\"[\\w']+\", \" \".join(lines).lower())\n",
    "    words = [w for w in words if len(w) > 3]\n",
    "    return pd.Series(words).value_counts().head(10)\n",
    "\n",
    "word_counts(comments)\n"
   ]
  },
  {
   "cell_type": "markdown",
   "id": "e3a6f66b",
   "metadata": {},
   "source": [
    "\n",
    "**Excersice:** Add a new comment containing the word **'delivery'** twice and rerun the word count.  \n",
    "**Hint:** `comments.append(\"...\")`\n"
   ]
  },
  {
   "cell_type": "code",
   "execution_count": null,
   "id": "f2d6b3a3",
   "metadata": {},
   "outputs": [],
   "source": [
    "# Goes here."
   ]
  },
  {
   "cell_type": "markdown",
   "id": "3033bdb1",
   "metadata": {},
   "source": [
    "\n",
    "## 3) Key Terms – Mini Glossary\n",
    "Run the cell below and then call `define(\"schema\")`, `define(\"oltp\")`, etc.\n"
   ]
  },
  {
   "cell_type": "code",
   "execution_count": null,
   "id": "6229e86f",
   "metadata": {},
   "outputs": [],
   "source": [
    "\n",
    "GLOSSARY = {\n",
    "    \"schema\": \"The layout/structure of data (columns, types, constraints).\",\n",
    "    \"database\": \"A system to store/retrieve data efficiently (e.g., PostgreSQL).\",\n",
    "    \"sql\": \"Structured Query Language for relational databases.\",\n",
    "    \"json\": \"Semi-structured text format with key–value pairs and nesting.\"\n",
    "}\n",
    "\n",
    "def define(term:str):\n",
    "    key = term.strip().lower()\n",
    "    print(f\"{term} → {GLOSSARY.get(key, 'Unknown term. Try one of: ' + ', '.join(GLOSSARY))}\")\n",
    "\n",
    "print(\"Try: define('schema')\")\n"
   ]
  },
  {
   "cell_type": "code",
   "execution_count": null,
   "id": "09756b03",
   "metadata": {},
   "outputs": [],
   "source": [
    "define(\"\")"
   ]
  },
  {
   "cell_type": "markdown",
   "id": "0dc574fb",
   "metadata": {},
   "source": [
    "\n",
    "## 4) Data Lifecycle (Toy Example)\n",
    "We'll simulate: **Collect → Store → Process → Analyze → Decide** using our orders.\n"
   ]
  },
  {
   "cell_type": "code",
   "execution_count": null,
   "id": "1df79ed4",
   "metadata": {},
   "outputs": [],
   "source": [
    "\n",
    "# Collect: We already have 'orders'. Let's 'Store' by writing CSV (just as demo).\n",
    "csv_path = \"../data/orders.csv\"\n",
    "orders.to_csv(csv_path, index=False)\n",
    "\n",
    "# Process: Clean simple things (e.g., ensure price is numeric & non-negative)\n",
    "orders_clean = orders.assign(price = pd.to_numeric(orders[\"price\"], errors=\"coerce\")).query(\"price >= 0\").copy()\n",
    "\n",
    "# Analyze: basic KPIs\n",
    "kpis = {\n",
    "    \"num_orders\": len(orders_clean),\n",
    "    \"unique_customers\": orders_clean[\"customer\"].nunique(),\n",
    "    \"revenue\": float(orders_clean[\"price\"].sum()),\n",
    "    \"avg_ticket\": float(orders_clean[\"price\"].mean())\n",
    "}\n",
    "kpis\n"
   ]
  },
  {
   "cell_type": "markdown",
   "id": "c729ae1c",
   "metadata": {},
   "source": [
    "\n",
    "**Decision:** Based on revenue and average ticket, we might test a **bundle** (e.g., *Pasta + Salad = €16*) to increase basket size.\n"
   ]
  },
  {
   "cell_type": "markdown",
   "id": "e8bf51e8",
   "metadata": {},
   "source": [
    "\n",
    "## 5) Data Warehouse vs Data Lake – Tiny Demo\n",
    "- **Warehouse idea (schema-on-write):** enforce a clean table with defined types.\n",
    "- **Lake idea (schema-on-read):** drop raw JSON, interpret when you query.\n"
   ]
  },
  {
   "cell_type": "code",
   "execution_count": null,
   "id": "6d78200d",
   "metadata": {},
   "outputs": [],
   "source": [
    "conn = sqlite3.connect(\":memory:\")\n",
    "orders.to_sql(\"orders\", conn, index=False, if_exists=\"replace\")\n",
    "\n",
    "# Lake: store 'raw' as-line JSON (no enforced schema)\n",
    "raw_path = \"../data/raw_events.ndjson\"\n",
    "with open(raw_path, \"w\", encoding=\"utf-8\") as f:\n",
    "    for row in logs:\n",
    "        f.write(json.dumps(row) + \"\\n\")\n",
    "\n",
    "# Warehouse: create a 'clean' table with explicit columns\n",
    "conn.execute(\"DROP TABLE IF EXISTS dw_events\")\n",
    "conn.execute(\"\"\"\n",
    "CREATE TABLE dw_events(\n",
    "    event TEXT,\n",
    "    user TEXT,\n",
    "    path TEXT,\n",
    "    device TEXT,\n",
    "    coupon TEXT\n",
    ")\n",
    "\"\"\")\n",
    "# Transform raw -> structured and load \n",
    "for row in logs:\n",
    "    conn.execute(\n",
    "        \"INSERT INTO dw_events VALUES (?,?,?,?,?)\",\n",
    "        (row.get(\"event\"), row.get(\"user\"), row.get(\"path\"),\n",
    "         row.get(\"meta\",{}).get(\"device\"), row.get(\"meta\",{}).get(\"coupon\"))\n",
    "    )\n",
    "conn.commit()\n",
    "\n",
    "print(\"Wrote raw NDJSON to\", raw_path)\n",
    "pd.read_sql_query(\"SELECT * FROM dw_events\", conn)\n"
   ]
  },
  {
   "cell_type": "markdown",
   "id": "55408a34",
   "metadata": {},
   "source": [
    "\n",
    "**Observation:** In the **lake** we kept everything raw; in the **warehouse** we defined columns upfront and loaded only the fields we care about.\n"
   ]
  },
  {
   "cell_type": "markdown",
   "id": "131f633b",
   "metadata": {},
   "source": [
    "\n",
    "## 6) Mini Project – From Raw to Insight\n",
    "**Goal:** Given raw logs + orders, identify a customer segment and propose a data-driven action.\n",
    "\n",
    "**Steps**\n",
    "1. Create a feature: number of events per user (from `logs_df`).\n",
    "2. Join with revenue per user (from `orders_clean`).\n",
    "3. Label **high-engagement** users and propose a marketing action.\n"
   ]
  },
  {
   "cell_type": "code",
   "execution_count": null,
   "id": "4798dac2",
   "metadata": {},
   "outputs": [],
   "source": [
    "# 1) Events per user\n",
    "ev = logs_df.groupby(\"user\").size().rename(\"events\")\n",
    "# 2) Revenue per user\n",
    "rev = orders_clean.groupby(\"customer\")[\"price\"].sum().rename(\"revenue\")\n",
    "# 3) Join\n",
    "seg = pd.concat([ev, rev], axis=1)\n",
    "seg.index.name = \"user\"\n",
    "seg = seg.fillna(0).sort_values([\"revenue\",\"events\"], ascending=False)\n",
    "seg\n"
   ]
  },
  {
   "cell_type": "markdown",
   "id": "56bbc597",
   "metadata": {},
   "source": [
    "\n",
    "**Excercise** Define high-engagement users as those with `events >= 2` **or** `revenue >= 20`.  \n",
    "Then, print a short recommendation for each high-engagement user.\n"
   ]
  },
  {
   "cell_type": "markdown",
   "id": "23d22413",
   "metadata": {},
   "source": [
    "\n",
    "## 7) Quick Quiz (self-check)\n",
    "1. **Structured vs Semi-Structured:** Give one example of each from this notebook.  \n",
    "3. **Warehouse vs Lake:** Which one uses **schema-on-read**?  \n",
    "\n",
    "*(Answers at bottom)*\n"
   ]
  },
  {
   "cell_type": "markdown",
   "id": "27990294",
   "metadata": {},
   "source": [
    "\n",
    "<details>\n",
    "<summary>Quiz Answers</summary>\n",
    "\n",
    "1. Structured: `orders` DataFrame; Semi-structured: `logs` JSON.  \n",
    "3. Data Lake = schema-on-read.  \n",
    "</details>\n"
   ]
  },
  {
   "cell_type": "markdown",
   "id": "f2eb5489",
   "metadata": {},
   "source": [
    "\n",
    "## 8) Wrap-Up \n",
    "- You practiced working with data in multiple formats.\n",
    "- You contrasted warehouse vs lake.\n",
    "\n"
   ]
  },
  {
   "cell_type": "markdown",
   "id": "d11f6b82",
   "metadata": {},
   "source": []
  }
 ],
 "metadata": {
  "kernelspec": {
   "display_name": "3.11.3",
   "language": "python",
   "name": "python3"
  },
  "language_info": {
   "codemirror_mode": {
    "name": "ipython",
    "version": 3
   },
   "file_extension": ".py",
   "mimetype": "text/x-python",
   "name": "python",
   "nbconvert_exporter": "python",
   "pygments_lexer": "ipython3",
   "version": "3.11.3"
  }
 },
 "nbformat": 4,
 "nbformat_minor": 5
}
